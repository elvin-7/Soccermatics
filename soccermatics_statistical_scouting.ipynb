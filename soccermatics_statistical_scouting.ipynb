{
 "cells": [
  {
   "cell_type": "markdown",
   "id": "a1d28fd7",
   "metadata": {},
   "source": [
    "# Creating Radar Charts"
   ]
  },
  {
   "cell_type": "code",
   "execution_count": 1,
   "id": "5a1786d3",
   "metadata": {},
   "outputs": [],
   "source": [
    "import pandas as pd\n",
    "import numpy as np\n",
    "import json\n",
    "import matplotlib.pyplot as plt\n",
    "import statsmodels.api as sm\n",
    "import statsmodels.formula.api as smf\n",
    "import os\n",
    "import pathlib\n",
    "import warnings\n",
    "from scipy import stats\n",
    "from mplsoccer import PyPizza, FontManager\n",
    "\n",
    "pd.options.mode.chained_assignment = None\n",
    "warnings.filterwarnings('ignore')"
   ]
  },
  {
   "cell_type": "code",
   "execution_count": 3,
   "id": "091c253d",
   "metadata": {},
   "outputs": [],
   "source": [
    "train = pd.read_json(r'C:\\Users\\elvin\\Documents\\Soccermatics\\Wyscout\\events\\events_Italy.json')\n",
    "\n",
    "#remove any rows where we do not have the start and end of an action available\n",
    "mask = train['positions'].apply(lambda x: len(x)==2)\n",
    "train = train[mask]"
   ]
  },
  {
   "cell_type": "markdown",
   "id": "c7498ae8",
   "metadata": {},
   "source": [
    "## Calculating xG value"
   ]
  },
  {
   "cell_type": "code",
   "execution_count": null,
   "id": "4a874f87",
   "metadata": {},
   "outputs": [
    {
     "data": {
      "text/plain": [
       "647372"
      ]
     },
     "execution_count": 16,
     "metadata": {},
     "output_type": "execute_result"
    }
   ],
   "source": [
    "def calculatexG(df, npxG):\n",
    "    \"\"\"\n",
    "    Parameters\n",
    "    ----------\n",
    "    df : dataframe\n",
    "        dataframe with Wyscout event data.\n",
    "    npxG : boolean\n",
    "        True if xG should not include penalties, False elsewhere.\n",
    "\n",
    "    Returns\n",
    "    -------\n",
    "    xG_sum: dataframe\n",
    "        dataframe with sum of Exppected Goals for players during the season.\n",
    "\n",
    "    \"\"\"\n",
    "    #creating a basic xG model\n",
    "    shots = df[df['eventName']==\"Shot\"].copy()\n",
    "    shots[\"X\"] = shots.positions.apply(lambda cell: (100 - cell[0]['x']) * 105/100)\n",
    "    shots[\"Y\"] = shots.positions.apply(lambda cell: cell[0]['y'] * 68/100)\n",
    "    shots[\"C\"] = shots.positions.apply(lambda cell: abs(cell[0]['y'] - 50) * 68/100)\n",
    "    shots[\"Distance\"] = np.sqrt(shots[\"X\"]**2 + shots[\"C\"]**2)\n",
    "    shots[\"Angle\"] = np.where(np.arctan(7.32 * shots[\"X\"] / (shots[\"X\"]**2 + shots[\"C\"]**2 - (7.32/2)**2)) > 0, \n",
    "                              np.arctan(7.32 * shots[\"X\"] /(shots[\"X\"]**2 + shots[\"C\"]**2 - (7.32/2)**2)), \n",
    "                              np.arctan(7.32 * shots[\"X\"] /(shots[\"X\"]**2 + shots[\"C\"]**2 - (7.32/2)**2)) + np.pi)\n",
    "    shots['Goal'] = shots.tags.apply(lambda x: 1 if {'id':101}in x else 0).astype(object)\n",
    "    #the header id tag is 403\n",
    "    headers = shots.loc[shots.apply(lambda x:{'id':403} in x.tags)]\n",
    "    non_headers = shots.drop(headers.index)\n",
    "\n",
    "    headers_model = smf.glm(formula=\"Goal ~ Distance + Angle\", data=headers,\n",
    "                            family=sm.families.Binomial()).fit()\n",
    "    \n",
    "    non_headers_model = smf.glm(formula=\"Goal ~ Distance + Angle\", data=non_headers,\n",
    "                            family=sm.families.Binomial()).fit()\n",
    "    \n",
    "\n",
    "    "
   ]
  },
  {
   "cell_type": "code",
   "execution_count": null,
   "id": "69333a6b",
   "metadata": {},
   "outputs": [],
   "source": []
  }
 ],
 "metadata": {
  "kernelspec": {
   "display_name": "myenv",
   "language": "python",
   "name": "python3"
  },
  "language_info": {
   "codemirror_mode": {
    "name": "ipython",
    "version": 3
   },
   "file_extension": ".py",
   "mimetype": "text/x-python",
   "name": "python",
   "nbconvert_exporter": "python",
   "pygments_lexer": "ipython3",
   "version": "3.10.18"
  }
 },
 "nbformat": 4,
 "nbformat_minor": 5
}
